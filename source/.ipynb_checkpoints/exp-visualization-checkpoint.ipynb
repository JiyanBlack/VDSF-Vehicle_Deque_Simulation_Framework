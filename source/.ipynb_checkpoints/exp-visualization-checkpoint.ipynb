{
 "cells": [
  {
   "cell_type": "code",
   "execution_count": 1,
   "metadata": {},
   "outputs": [
    {
     "name": "stdout",
     "output_type": "stream",
     "text": [
      "Using matplotlib backend: Qt5Agg\n",
      "Populating the interactive namespace from numpy and matplotlib\n",
      "number of items in monochrome: 12\n"
     ]
    }
   ],
   "source": [
    "import matplotlib.pyplot as plt\n",
    "from Objects.Simulation import Simulation\n",
    "import numpy as np\n",
    "%pylab\n",
    "%matplotlib inline\n",
    "\n",
    "from matplotlib import lines, markers\n",
    "from cycler import cycler\n",
    "\n",
    "# Create cycler object. Use any styling from above you please\n",
    "monochromeWithMarker = (cycler('color', ['k']) * cycler('linestyle', ['-', '--', ':', '-.']) * cycler('marker', [ '.' ,'^']))\n",
    "monochromeNoMarker = (cycler('color', ['k']) * cycler('linestyle', ['-', '--', ':', '-.']) * cycler('marker', [',']))\n",
    "monochrome = monochromeNoMarker.concat(monochromeWithMarker)\n",
    "# Print examples of output from cycler object. \n",
    "# A cycler object, when called, returns a `iter.cycle` object that iterates over items indefinitely\n",
    "print(\"number of items in monochrome:\", len(monochrome))\n",
    "# Overriding styles for current script\n",
    "plt.rcParams['axes.grid'] = True\n",
    "plt.rcParams['axes.prop_cycle'] = monochrome\n",
    "plt.rcParams['axes.spines.top'] = False\n",
    "plt.rcParams['axes.spines.right'] = False\n",
    "plt.rcParams['axes.spines.bottom'] = False\n",
    "plt.rcParams['axes.spines.left'] = False\n",
    "plt.rcParams['figure.figsize'] = (12,5)\n",
    "mpl.rcParams['figure.dpi']= 300\n",
    "MARKEREVERY = 50"
   ]
  },
  {
   "cell_type": "code",
   "execution_count": 2,
   "metadata": {},
   "outputs": [],
   "source": [
    "def plot_one_key(x_timeline, ydata, key, keys):\n",
    "    if len(keys) <=5:\n",
    "        plt.plot(x_timeline, ydata , label = str(key+1), markevery=MARKEREVERY)\n",
    "    else:\n",
    "        plt.plot(x_timeline, ydata,marker='', color='black', markevery=MARKEREVERY)"
   ]
  },
  {
   "cell_type": "code",
   "execution_count": 3,
   "metadata": {},
   "outputs": [],
   "source": [
    "def plot_one_record(record_zipped, dimension, x_timeline, startend = [], legend=True):\n",
    "    keys = record_zipped.keys()\n",
    "    if startend:\n",
    "        start_filter = ((x_timeline >= startend[0]) & (x_timeline <= startend[1]))\n",
    "        x_timeline = x_timeline[start_filter]\n",
    "    else:\n",
    "        start_filter = np.full(x_timeline.shape ,True, dtype=bool) \n",
    "    for key in keys:\n",
    "        ydata = record_zipped[key][dimension]\n",
    "        ydata = ydata[start_filter]\n",
    "        plot_one_key(x_timeline, ydata, key ,keys)\n",
    "    if legend:\n",
    "        plt.legend(title=\"Vehicle Sequence in Queue\")\n",
    "    ylabelmap = {\n",
    "        0:r\"Acceleration - \" + r\"$\\alpha(m/s^{2})$\",\n",
    "        1:r\"Speed - \" + r\"$\\nu  (m/s)$\",\n",
    "        2:r\"Distance to the Initial Start Line - \" + \"$\\chi(meter)$\",\n",
    "        3:r\"Headway - H(second)\"\n",
    "    }\n",
    "    ylabel = ylabelmap[dimension]\n",
    "    plt.ylabel(ylabel)\n",
    "    plt.xlabel(\"Time (second)\")\n"
   ]
  },
  {
   "cell_type": "code",
   "execution_count": 4,
   "metadata": {},
   "outputs": [],
   "source": [
    "def zip_records(records):\n",
    "    record_zipped = {}\n",
    "    for key in records.keys():\n",
    "        record_zipped[key] = np.array(list(zip(*records[key].values())))\n",
    "    return record_zipped"
   ]
  },
  {
   "cell_type": "code",
   "execution_count": 5,
   "metadata": {},
   "outputs": [],
   "source": [
    "def plot_records(p, startend= []):\n",
    "    records = p.records\n",
    "    x_timeline = np.array(list(records[0].keys()))\n",
    "    x_timeline = x_timeline / 1000\n",
    "    record_zipped = zip_records(records)\n",
    "    plot_one_record(record_zipped, 0, x_timeline, startend = startend)\n",
    "    plt.show()\n",
    "    plot_one_record(record_zipped, 1, x_timeline, startend = startend)\n",
    "    plt.show()\n",
    "    plot_one_record(record_zipped, 2, x_timeline, startend = startend)\n",
    "    plt.show()\n",
    "    plot_one_record(record_zipped, 3, x_timeline, startend = startend)\n",
    "    plt.show()\n",
    "\n",
    "def plot_two_subplots(p1,p2, startend=[], filename = None):\n",
    "    r1 = p1[0].records\n",
    "    r2 = p2[0].records\n",
    "    xt1 = np.array(list(r1[0].keys()))/1000\n",
    "    xt2 = np.array(list(r2[0].keys()))/1000\n",
    "    rz1 = zip_records(r1)\n",
    "    rz2 = zip_records(r2)\n",
    "    plt.subplot(121)\n",
    "    plot_one_record(rz1, p1[1], xt1, startend, legend=False)\n",
    "    plt.subplot(122)\n",
    "    plot_one_record(rz2, p2[1], xt2, startend, legend=False)\n",
    "    keys = rz1.keys()\n",
    "    if len(keys) <=5:\n",
    "        plt.legend(title=\"Vehicle Sequence in Queue\")\n",
    "    if filename:\n",
    "        plt.savefig('./pics/' + filename + '.png', dpi = 300)\n",
    "    plt.show()\n",
    "\n",
    "def plot_three_subplots(p1,p2,p3, startend=[], filename = None):\n",
    "    r1 = p1[0].records\n",
    "    r2 = p2[0].records\n",
    "    r3 = p3[0].records\n",
    "    xt1 = np.array(list(r1[0].keys()))/1000\n",
    "    xt2 = np.array(list(r2[0].keys()))/1000\n",
    "    xt3 = np.array(list(r3[0].keys()))/1000\n",
    "    rz1 = zip_records(r1)\n",
    "    rz2 = zip_records(r2)\n",
    "    rz3 = zip_records(r3)\n",
    "    plt.subplot(131)\n",
    "    plot_one_record(rz1, p1[1], xt1,  legend=False)\n",
    "    plt.subplot(132)\n",
    "    plot_one_record(rz2, p2[1], xt2, legend=False)\n",
    "    plt.subplot(133)\n",
    "    plot_one_record(rz3, p3[1], xt3, startend, legend=False)\n",
    "    keys = rz1.keys()\n",
    "    if len(keys) <=5:\n",
    "        plt.legend(title=\"Vehicle Sequence in Queue\")\n",
    "    if filename:\n",
    "        plt.savefig('./pics/' + filename + '.png', dpi = 300)\n",
    "    plt.show()"
   ]
  },
  {
   "cell_type": "code",
   "execution_count": 6,
   "metadata": {},
   "outputs": [],
   "source": [
    "def cal_one_p(p):\n",
    "    return np.mean(p.delays), np.max(p.delays), p.vehPass\n",
    "\n",
    "def cal_avg_p(ps):\n",
    "    means = []\n",
    "    maxs = []\n",
    "    vehpasses = []\n",
    "    for p in ps:\n",
    "        delay_mean, delay_max, vehPass = cal_one_p(p)\n",
    "        means.append(delay_mean)\n",
    "        maxs.append(delay_max)\n",
    "        vehpasses.append(vehPass)\n",
    "    return np.mean(means), np.max(maxs), np.mean(vehpasses)\n",
    "\n",
    "def get_gipps_platoons(simulation, times):\n",
    "    gps = []\n",
    "    for i in range(100):\n",
    "        gps.append(simulation.run_gipps_simluation(n = number_vehicles, intend_speed = intended_speed, randomness = True))\n",
    "    return gps\n",
    "\n",
    "def cal_vdr(ps, tg):\n",
    "    if type(ps) is not list:\n",
    "        ps = [ps]\n",
    "    total_vehPass = 0\n",
    "    total_tg = 0\n",
    "    for p in ps:\n",
    "        total_vehPass += p.vehPass\n",
    "        total_tg += tg\n",
    "    return total_vehPass / total_tg * 3600"
   ]
  },
  {
   "cell_type": "code",
   "execution_count": 7,
   "metadata": {},
   "outputs": [],
   "source": [
    "def map_platoon_hpass0(func):\n",
    "    return list(map(lambda car: car.headway_pass_zero,gipps.platoon))"
   ]
  },
  {
   "cell_type": "code",
   "execution_count": 8,
   "metadata": {
    "scrolled": false
   },
   "outputs": [
    {
     "ename": "AttributeError",
     "evalue": "'Simulation' object has no attribute 'run_human_simulation'",
     "output_type": "error",
     "traceback": [
      "\u001b[1;31m---------------------------------------------------------------------------\u001b[0m",
      "\u001b[1;31mAttributeError\u001b[0m                            Traceback (most recent call last)",
      "\u001b[1;32m<ipython-input-8-979c6aee466e>\u001b[0m in \u001b[0;36m<module>\u001b[1;34m()\u001b[0m\n\u001b[0;32m     27\u001b[0m \u001b[0mav\u001b[0m \u001b[1;33m=\u001b[0m \u001b[0msim\u001b[0m\u001b[1;33m.\u001b[0m\u001b[0mrun_av_simluation\u001b[0m\u001b[1;33m(\u001b[0m\u001b[0mn\u001b[0m\u001b[1;33m,\u001b[0m \u001b[0mparas\u001b[0m\u001b[1;33m)\u001b[0m\u001b[1;33m\u001b[0m\u001b[0m\n\u001b[0;32m     28\u001b[0m \u001b[1;33m\u001b[0m\u001b[0m\n\u001b[1;32m---> 29\u001b[1;33m \u001b[0mhuman\u001b[0m \u001b[1;33m=\u001b[0m \u001b[0msim\u001b[0m\u001b[1;33m.\u001b[0m\u001b[0mrun_human_simulation\u001b[0m\u001b[1;33m(\u001b[0m\u001b[0mn\u001b[0m\u001b[1;33m,\u001b[0m \u001b[0mparas\u001b[0m\u001b[1;33m)\u001b[0m\u001b[1;33m\u001b[0m\u001b[0m\n\u001b[0m\u001b[0;32m     30\u001b[0m \u001b[1;33m\u001b[0m\u001b[0m\n\u001b[0;32m     31\u001b[0m \u001b[0mrandomness\u001b[0m \u001b[1;33m=\u001b[0m \u001b[1;32mTrue\u001b[0m \u001b[1;31m# Gipps Model randomness\u001b[0m\u001b[1;33m\u001b[0m\u001b[0m\n",
      "\u001b[1;31mAttributeError\u001b[0m: 'Simulation' object has no attribute 'run_human_simulation'"
     ]
    }
   ],
   "source": [
    "simulation_time = 60 # seconds\n",
    "n = 5 # number of vehicles\n",
    "intended_speed = 80 * 1000/3600 # intended speed / speed limit of the road\n",
    "sim = Simulation(time = simulation_time, avStep = 100)\n",
    "\n",
    "\n",
    "LRT = [1.34, -1.34]\n",
    "HSR = [0.58, -0.54]\n",
    "\n",
    "human_profile = [1.7, -2.0]\n",
    "av_profile = LRT\n",
    "\n",
    "paras={\n",
    "    'v_intend': intended_speed,\n",
    "    'human_max_acc': human_profile[0],\n",
    "    'human_max_dec': human_profile[1],\n",
    "    'max_acc': av_profile[0],\n",
    "    'max_dec': av_profile[1],\n",
    "    'tsys': 0.5,\n",
    "    'human_T':1.5,\n",
    "    'AV_T': 1.0\n",
    "}\n",
    "\n",
    "\n",
    "cav = sim.run_cav_simuation(n, paras)\n",
    "l\n",
    "av = sim.run_av_simulation(n, paras)\n",
    "\n",
    "human = sim.run_human_simulation(n, paras) \n",
    "\n",
    "randomness = True # Gipps Model randomness\n",
    "gipps = sim.run_gipps_simluation(n = number_vehicles, intend_speed = intended_speed, randomness = randomness)"
   ]
  },
  {
   "cell_type": "code",
   "execution_count": null,
   "metadata": {},
   "outputs": [],
   "source": [
    "print(\"Average delay is {}, the highest delay is {}, vehicle pass number is {}, VDR is {}\".format(*cal_one_p(av), cal_vdr(av, simulation_time)))\n",
    "print(\"Average delay is {}, the highest delay is {}, vehicle pass number is {}, VDR is {}\".format(*cal_one_p(cav), cal_vdr(cav, simulation_time)))\n",
    "print(\"Average delay is {}, the highest delay is {}, vehicle pass number is {}, VDR is {}\".format(*cal_one_p(gipps), cal_vdr(gipps, simulation_time)))"
   ]
  },
  {
   "cell_type": "code",
   "execution_count": null,
   "metadata": {},
   "outputs": [],
   "source": [
    "print(map_platoon_hpass0(gipps))"
   ]
  },
  {
   "cell_type": "code",
   "execution_count": null,
   "metadata": {
    "scrolled": false
   },
   "outputs": [],
   "source": [
    "plot_three_subplots([cav, 0], [cav, 1], [cav, 3],startend=[10,60])"
   ]
  },
  {
   "cell_type": "code",
   "execution_count": null,
   "metadata": {
    "scrolled": false
   },
   "outputs": [],
   "source": [
    "dim = 3\n",
    "plot_two_subplots([cav, dim], [gipps, dim], startend = [10,400])"
   ]
  },
  {
   "cell_type": "code",
   "execution_count": null,
   "metadata": {},
   "outputs": [],
   "source": [
    "dim = 1\n",
    "plot_two_subplots([gipps,dim], [cav, dim], startend = [0,200])"
   ]
  },
  {
   "cell_type": "code",
   "execution_count": null,
   "metadata": {
    "scrolled": false
   },
   "outputs": [],
   "source": [
    "dim = 1\n",
    "plot_three_subplots([gipps, dim], [av, dim], [cav, dim],startend=[0,40])\n",
    "dim = 3\n",
    "plot_three_subplots([gipps, dim], [av, dim], [cav, dim],startend=[0,40])"
   ]
  },
  {
   "cell_type": "code",
   "execution_count": null,
   "metadata": {},
   "outputs": [],
   "source": []
  }
 ],
 "metadata": {
  "kernelspec": {
   "display_name": "Python 3",
   "language": "python",
   "name": "python3"
  },
  "language_info": {
   "codemirror_mode": {
    "name": "ipython",
    "version": 3
   },
   "file_extension": ".py",
   "mimetype": "text/x-python",
   "name": "python",
   "nbconvert_exporter": "python",
   "pygments_lexer": "ipython3",
   "version": "3.6.5"
  }
 },
 "nbformat": 4,
 "nbformat_minor": 2
}
