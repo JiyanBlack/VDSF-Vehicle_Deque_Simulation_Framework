{
 "cells": [
  {
   "cell_type": "code",
   "execution_count": null,
   "metadata": {},
   "outputs": [],
   "source": [
    "import matplotlib.pyplot as plt\n",
    "from Objects.Simulation import Simulation\n",
    "import numpy as np\n",
    "%pylab\n",
    "%matplotlib inline\n",
    "\n",
    "plt.set_cmap('gray')\n",
    "# Overriding styles for current script\n",
    "plt.rcParams['axes.grid'] = True\n",
    "plt.rcParams['axes.spines.top'] = False\n",
    "plt.rcParams['axes.spines.right'] = False\n",
    "plt.rcParams['axes.spines.bottom'] = False\n",
    "plt.rcParams['axes.spines.left'] = False\n",
    "plt.rcParams['figure.figsize'] = (12,5)\n",
    "mpl.rcParams['figure.dpi']= 300\n"
   ]
  },
  {
   "cell_type": "code",
   "execution_count": null,
   "metadata": {},
   "outputs": [],
   "source": [
    "def cal_one_p(p):\n",
    "    return np.mean(p.delays), np.max(p.delays), p.vehPass\n",
    "\n",
    "def cal_avg_p(ps):\n",
    "    means = []\n",
    "    maxs = []\n",
    "    vehpasses = []\n",
    "    for p in ps:\n",
    "        delay_mean, delay_max, vehPass = cal_one_p(p)\n",
    "        means.append(delay_mean)\n",
    "        maxs.append(delay_max)\n",
    "        vehpasses.append(vehPass)\n",
    "    return np.mean(means), np.max(maxs), np.mean(vehpasses)\n",
    "\n",
    "def get_gipps_platoons(simulation, times):\n",
    "    gps = []\n",
    "    for i in range(100):\n",
    "        gps.append(simulation.run_gipps_simluation(n = number_vehicles, intend_speed = intended_speed, randomness = True))\n",
    "    return gps\n"
   ]
  },
  {
   "cell_type": "code",
   "execution_count": null,
   "metadata": {},
   "outputs": [],
   "source": [
    "simulation_time = 60 # seconds\n",
    "number_vehicles = 100 # number of vehicles\n",
    "intended_speed = 80 * 1000/3600 # intended speed / speed limit of the road\n",
    "sim = Simulation(time = simulation_time, avStep = 100)\n",
    "\n",
    "LRT = [1.34, -1.34]\n",
    "HSR = [0.58, -0.54]\n",
    "\n",
    "acda1 = sim.run_cav_simluation(n = number_vehicles, intend_speed = intended_speed, ACDA=True, maxAcc=LRT)\n",
    "cav1 = sim.run_cav_simluation(n = number_vehicles, intend_speed = intended_speed, ACDA=False, maxAcc=LRT)\n",
    "gps1 = get_gipps_platoons(sim, 100)"
   ]
  },
  {
   "cell_type": "code",
   "execution_count": null,
   "metadata": {},
   "outputs": [],
   "source": [
    "print(\"Scenario 1\")\n",
    "print(\"Average delay of IDM is {}, the highest delay is {}, vehicle pass number is {}\".format(*cal_one_p(acda1)))\n",
    "print(\"Average delay of CAV is {}, the highest delay is {}, vehicle pass number is {}\".format(*cal_one_p(cav1)))\n",
    "print(\"Average delay of 100 Gipps is {}, the highest delay is {}, vehicle pass number is {}\".format(*cal_avg_p(gps1)))"
   ]
  },
  {
   "cell_type": "code",
   "execution_count": null,
   "metadata": {},
   "outputs": [],
   "source": [
    "simulation_time = 60 # seconds\n",
    "number_vehicles = 100 # number of vehicles\n",
    "intended_speed = 80 * 1000/3600 # intended speed / speed limit of the road\n",
    "sim = Simulation(time = simulation_time, avStep = 100)\n",
    "\n",
    "LRT = [1.34, -1.34]\n",
    "HSR = [0.58, -0.54]\n",
    "\n",
    "acda2 = sim.run_cav_simluation(n = number_vehicles, intend_speed = intended_speed, ACDA=True, maxAcc=HSR)\n",
    "cav2 = sim.run_cav_simluation(n = number_vehicles, intend_speed = intended_speed, ACDA=False, maxAcc=HSR)\n"
   ]
  },
  {
   "cell_type": "code",
   "execution_count": null,
   "metadata": {},
   "outputs": [],
   "source": [
    "print(\"Scenario 2\")\n",
    "print(\"Average delay of IDM is {}, the highest delay is {}, vehicle pass number is {}\".format(*cal_one_p(acda2)))\n",
    "print(\"Average delay of CAV is {}, the highest delay is {}, vehicle pass number is {}\".format(*cal_one_p(cav2)))\n",
    "print(\"Average delay of 100 Gipps is {}, the highest delay is {}, vehicle pass number is {}\".format(*cal_avg_p(gps1)))"
   ]
  },
  {
   "cell_type": "code",
   "execution_count": null,
   "metadata": {},
   "outputs": [],
   "source": [
    "simulation_time = 60 # seconds\n",
    "number_vehicles = 100 # number of vehicles\n",
    "intended_speed = 80 * 1000/3600 # intended speed / speed limit of the road\n",
    "sim = Simulation(time = simulation_time, avStep = 100)\n",
    "\n",
    "LRT = [1.34, -1.34]\n",
    "HSR = [0.58, -0.54]\n",
    "\n",
    "acda2 = sim.run_cav_simluation(n = number_vehicles, intend_speed = intended_speed, ACDA=True, maxAcc=HSR)\n",
    "cav2 = sim.run_cav_simluation(n = number_vehicles, intend_speed = intended_speed, ACDA=False, maxAcc=HSR)\n",
    "gps2 = get_gipps_platoons(sim, 100)"
   ]
  },
  {
   "cell_type": "code",
   "execution_count": null,
   "metadata": {},
   "outputs": [],
   "source": [
    "print(\"Scenario 2\")\n",
    "print(\"Average delay of IDM is {}, the highest delay is {}, vehicle pass number is {}\".format(*cal_one_p(acda2)))\n",
    "print(\"Average delay of CAV is {}, the highest delay is {}, vehicle pass number is {}\".format(*cal_one_p(cav2)))\n",
    "print(\"Average delay of 100 Gipps is {}, the highest delay is {}, vehicle pass number is {}\".format(*cal_avg_p(gps2)))"
   ]
  }
 ],
 "metadata": {
  "kernelspec": {
   "display_name": "Python 3",
   "language": "python",
   "name": "python3"
  },
  "language_info": {
   "codemirror_mode": {
    "name": "ipython",
    "version": 3
   },
   "file_extension": ".py",
   "mimetype": "text/x-python",
   "name": "python",
   "nbconvert_exporter": "python",
   "pygments_lexer": "ipython3",
   "version": "3.6.5"
  }
 },
 "nbformat": 4,
 "nbformat_minor": 2
}
