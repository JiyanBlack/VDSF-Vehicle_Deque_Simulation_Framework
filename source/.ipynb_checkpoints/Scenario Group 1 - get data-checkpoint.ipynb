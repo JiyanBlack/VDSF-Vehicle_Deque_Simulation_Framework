{
 "cells": [
  {
   "cell_type": "code",
   "execution_count": 3,
   "metadata": {},
   "outputs": [
    {
     "name": "stdout",
     "output_type": "stream",
     "text": [
      "Using matplotlib backend: Qt5Agg\n",
      "Populating the interactive namespace from numpy and matplotlib\n"
     ]
    }
   ],
   "source": [
    "import matplotlib.pyplot as plt\n",
    "from Objects.Simulation import Simulation\n",
    "import numpy as np\n",
    "%pylab\n",
    "%matplotlib inline\n",
    "\n"
   ]
  },
  {
   "cell_type": "code",
   "execution_count": 4,
   "metadata": {},
   "outputs": [
    {
     "name": "stdout",
     "output_type": "stream",
     "text": [
      "Using matplotlib backend: Qt5Agg\n",
      "Populating the interactive namespace from numpy and matplotlib\n"
     ]
    },
    {
     "data": {
      "text/plain": [
       "<Figure size 432x288 with 0 Axes>"
      ]
     },
     "metadata": {},
     "output_type": "display_data"
    }
   ],
   "source": [
    "%pylab\n",
    "%matplotlib inline\n",
    "\n",
    "from matplotlib import lines, markers\n",
    "from cycler import cycler\n",
    "\n",
    "# Create cycler object. Use any styling from above you please\n",
    "monochromeWithMarker = (cycler('color', ['k']) * cycler('linestyle', ['-', '--', ':', '-.']) * cycler('marker', [ '.' ,'^']))\n",
    "monochromeNoMarker = (cycler('color', ['k']) * cycler('linestyle', ['-', '--', ':', '-.']) * cycler('marker', [',']))\n",
    "monochrome = monochromeNoMarker.concat(monochromeWithMarker)\n",
    "\n",
    "plt.set_cmap('gray')\n",
    "# Overriding styles for current script\n",
    "plt.rcParams['axes.grid'] = True\n",
    "plt.rcParams['axes.spines.top'] = False\n",
    "plt.rcParams['axes.spines.right'] = False\n",
    "plt.rcParams['axes.spines.bottom'] = False\n",
    "plt.rcParams['axes.spines.left'] = False\n",
    "plt.rcParams['figure.figsize'] = (12,5)\n",
    "mpl.rcParams['figure.dpi']= 300\n",
    "plt.rcParams['axes.prop_cycle'] = monochrome"
   ]
  },
  {
   "cell_type": "code",
   "execution_count": 5,
   "metadata": {},
   "outputs": [],
   "source": [
    "def cal_one_p(p):\n",
    "    return np.mean(p.delays), np.max(p.delays), p.vehPass\n",
    "\n",
    "def cal_vdr(ps, tg):\n",
    "    if type(ps) is not list:\n",
    "        ps = [ps]\n",
    "    total_vehPass = 0\n",
    "    total_tg = 0\n",
    "    for p in ps:\n",
    "        total_vehPass += p.vehPass\n",
    "        total_tg += tg\n",
    "    return total_vehPass / total_tg * 3600"
   ]
  },
  {
   "cell_type": "code",
   "execution_count": 6,
   "metadata": {},
   "outputs": [],
   "source": [
    "simulation_time = 200 # seconds\n",
    "n = 200 # number of vehicles\n",
    "intended_speed = 80 * 1000/3600 # intended speed / speed limit of the road\n",
    "sim = Simulation(time = simulation_time, avStep = 100)\n",
    "\n",
    "\n",
    "LRT = [1.34, -1.34]\n",
    "HSR = [0.58, -0.54]\n",
    "\n",
    "human_profile = [1.7, -2.0]\n",
    "av_profile = HSR\n",
    "\n",
    "paras={\n",
    "    'v_intend': intended_speed,\n",
    "    'human_max_acc': human_profile[0],\n",
    "    'human_max_dec': human_profile[1],\n",
    "    'max_acc': av_profile[0],\n",
    "    'max_dec': av_profile[1],\n",
    "    'tsys': 0.8,\n",
    "    'human_T': 1.8,\n",
    "    'AV_T': 1.2\n",
    "}"
   ]
  },
  {
   "cell_type": "code",
   "execution_count": null,
   "metadata": {},
   "outputs": [],
   "source": [
    "human_ps = []\n",
    "av_ps = []\n",
    "cav_ps = []\n",
    "\n",
    "\n",
    "start_acc = 1.34\n",
    "end_acc = 0.58\n",
    "totalLoop = int((end_T - start_T-0.0001) / 0.02 + 1) + 1\n",
    "print(totalLoop)\n",
    "for i in range(totalLoop):\n",
    "    cur_T = start_T + i * 0.02\n",
    "    paras['tsys'] = cur_T\n",
    "    p = sim.run_cav_simulation(n, paras)\n",
    "    cur_vdr = cal_vdr(p, simulation_time)\n",
    "    avg_delay, max_delay, psn = cal_one_p(p)\n",
    "    x_T_cav.append(cur_T)\n",
    "    y_vdr_cav.append(cur_vdr)\n",
    "    y_avg_delay_cav.append(avg_delay)\n",
    "    y_high_delay_cav.append(max_delay)\n",
    "    y_veh_pass_num_cav.append(psn)"
   ]
  }
 ],
 "metadata": {
  "kernelspec": {
   "display_name": "Python 3",
   "language": "python",
   "name": "python3"
  },
  "language_info": {
   "codemirror_mode": {
    "name": "ipython",
    "version": 3
   },
   "file_extension": ".py",
   "mimetype": "text/x-python",
   "name": "python",
   "nbconvert_exporter": "python",
   "pygments_lexer": "ipython3",
   "version": "3.6.5"
  }
 },
 "nbformat": 4,
 "nbformat_minor": 2
}
