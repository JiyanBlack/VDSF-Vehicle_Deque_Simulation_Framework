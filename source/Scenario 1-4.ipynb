{
 "cells": [
  {
   "cell_type": "code",
   "execution_count": 1,
   "metadata": {},
   "outputs": [
    {
     "name": "stdout",
     "output_type": "stream",
     "text": [
      "Using matplotlib backend: Qt5Agg\n",
      "Populating the interactive namespace from numpy and matplotlib\n"
     ]
    },
    {
     "data": {
      "text/plain": [
       "<Figure size 432x288 with 0 Axes>"
      ]
     },
     "metadata": {},
     "output_type": "display_data"
    }
   ],
   "source": [
    "import matplotlib.pyplot as plt\n",
    "from Objects.Simulation import Simulation\n",
    "import numpy as np\n",
    "%pylab\n",
    "%matplotlib inline\n",
    "\n",
    "plt.set_cmap('gray')\n",
    "# Overriding styles for current script\n",
    "plt.rcParams['axes.grid'] = True\n",
    "plt.rcParams['axes.spines.top'] = False\n",
    "plt.rcParams['axes.spines.right'] = False\n",
    "plt.rcParams['axes.spines.bottom'] = False\n",
    "plt.rcParams['axes.spines.left'] = False\n",
    "plt.rcParams['figure.figsize'] = (12,5)\n",
    "mpl.rcParams['figure.dpi']= 300\n"
   ]
  },
  {
   "cell_type": "code",
   "execution_count": 13,
   "metadata": {},
   "outputs": [],
   "source": [
    "def cal_one_p(p):\n",
    "    return np.mean(p.delays), np.max(p.delays), p.vehPass\n",
    "\n",
    "def cal_avg_p(ps):\n",
    "    means = []\n",
    "    maxs = []\n",
    "    vehpasses = []\n",
    "    for p in ps:\n",
    "        delay_mean, delay_max, vehPass = cal_one_p(p)\n",
    "        means.append(delay_mean)\n",
    "        maxs.append(delay_max)\n",
    "        vehpasses.append(vehPass)\n",
    "    return np.mean(means), np.max(maxs), np.mean(vehpasses)\n",
    "\n",
    "def get_gipps_platoons(simulation, times):\n",
    "    gps = []\n",
    "    for i in range(100):\n",
    "        gps.append(simulation.run_gipps_simluation(n = number_vehicles, intend_speed = intended_speed, randomness = True))\n",
    "    return gps\n",
    "\n",
    "def cal_vdr(ps, tg):\n",
    "    if type(ps) is not list:\n",
    "        ps = [ps]\n",
    "    total_vehPass = 0\n",
    "    total_tg = 0\n",
    "    for p in ps:\n",
    "        total_vehPass += p.vehPass\n",
    "        total_tg += tg\n",
    "    return total_vehPass / total_tg * 3600"
   ]
  },
  {
   "cell_type": "code",
   "execution_count": 15,
   "metadata": {},
   "outputs": [],
   "source": [
    "simulation_time = 60 # seconds\n",
    "number_vehicles = 100 # number of vehicles\n",
    "intended_speed = 80 * 1000/3600 # intended speed / speed limit of the road\n",
    "sim = Simulation(time = simulation_time, avStep = 100)\n",
    "\n",
    "LRT = [1.34, -1.34]\n",
    "HSR = [0.58, -0.54]\n",
    "\n",
    "acda1 = sim.run_cav_simluation(n = number_vehicles, intend_speed = intended_speed, ACDA=True, maxAcc=LRT)\n",
    "cav1 = sim.run_cav_simluation(n = number_vehicles, intend_speed = intended_speed, ACDA=False, maxAcc=LRT)\n",
    "gps1 = get_gipps_platoons(sim, 100)"
   ]
  },
  {
   "cell_type": "code",
   "execution_count": 16,
   "metadata": {},
   "outputs": [
    {
     "name": "stdout",
     "output_type": "stream",
     "text": [
      "Scenario 1\n",
      "Average delay of IDM is 34.79335664920769, the highest delay is 48.44408999068533, vehicle pass number is 37\n",
      "Average delay of CAV is 21.22602664654823, the highest delay is 32.241804524060925, vehicle pass number is 88\n",
      "Average delay of 100 Gipps is 21.470281003318995, the highest delay is 36.721903426092325, vehicle pass number is 90.73\n"
     ]
    },
    {
     "data": {
      "text/plain": [
       "5443.8"
      ]
     },
     "execution_count": 16,
     "metadata": {},
     "output_type": "execute_result"
    }
   ],
   "source": [
    "print(\"Scenario 1\")\n",
    "print(\"Average delay of IDM is {}, the highest delay is {}, vehicle pass number is {}, VDR is {}\".format(*cal_one_p(acda1)))\n",
    "print(\"Average delay of CAV is {}, the highest delay is {}, vehicle pass number is {}\".format(*cal_one_p(cav1)))\n",
    "print(\"Average delay of 100 Gipps is {}, the highest delay is {}, vehicle pass number is {}\".format(*cal_avg_p(gps1)))\n",
    "cal_vdr(gps1, simulation_time)"
   ]
  },
  {
   "cell_type": "code",
   "execution_count": 5,
   "metadata": {},
   "outputs": [],
   "source": [
    "simulation_time = 60 # seconds\n",
    "number_vehicles = 100 # number of vehicles\n",
    "intended_speed = 80 * 1000/3600 # intended speed / speed limit of the road\n",
    "sim = Simulation(time = simulation_time, avStep = 100)\n",
    "\n",
    "LRT = [1.34, -1.34]\n",
    "HSR = [0.58, -0.54]\n",
    "\n",
    "acda2 = sim.run_cav_simluation(n = number_vehicles, intend_speed = intended_speed, ACDA=True, maxAcc=HSR)\n",
    "cav2 = sim.run_cav_simluation(n = number_vehicles, intend_speed = intended_speed, ACDA=False, maxAcc=HSR)\n",
    "gps2 = gps1"
   ]
  },
  {
   "cell_type": "code",
   "execution_count": 6,
   "metadata": {},
   "outputs": [
    {
     "name": "stdout",
     "output_type": "stream",
     "text": [
      "Scenario 2\n",
      "Average delay of IDM is 40.34062892535337, the highest delay is 49.70279367311573, vehicle pass number is 32\n",
      "Average delay of CAV is 28.96808505946794, the highest delay is 36.88581494645426, vehicle pass number is 73\n",
      "Average delay of 100 Gipps is 21.58529616882532, the highest delay is 35.36662302090459, vehicle pass number is 90.42\n"
     ]
    }
   ],
   "source": [
    "print(\"Scenario 2\")\n",
    "print(\"Average delay of IDM is {}, the highest delay is {}, vehicle pass number is {}\".format(*cal_one_p(acda2)))\n",
    "print(\"Average delay of CAV is {}, the highest delay is {}, vehicle pass number is {}\".format(*cal_one_p(cav2)))\n",
    "print(\"Average delay of 100 Gipps is {}, the highest delay is {}, vehicle pass number is {}\".format(*cal_avg_p(gps2)))"
   ]
  },
  {
   "cell_type": "code",
   "execution_count": 9,
   "metadata": {},
   "outputs": [],
   "source": [
    "simulation_time = 30 # seconds\n",
    "number_vehicles = 100 # number of vehicles\n",
    "intended_speed = 40 * 1000/3600 # intended speed / speed limit of the road\n",
    "sim = Simulation(time = simulation_time, avStep = 100)\n",
    "\n",
    "LRT = [1.34, -1.34]\n",
    "HSR = [0.58, -0.54]\n",
    "\n",
    "acda3 = sim.run_cav_simluation(n = number_vehicles, intend_speed = intended_speed, ACDA=True, maxAcc=LRT)\n",
    "cav3 = sim.run_cav_simluation(n = number_vehicles, intend_speed = intended_speed, ACDA=False, maxAcc=LRT)\n",
    "gps3 = get_gipps_platoons(sim, 100)"
   ]
  },
  {
   "cell_type": "code",
   "execution_count": 10,
   "metadata": {},
   "outputs": [
    {
     "name": "stdout",
     "output_type": "stream",
     "text": [
      "Scenario 2\n",
      "Average delay of IDM is 14.575180946739021, the highest delay is 19.783046031500497, vehicle pass number is 17\n",
      "Average delay of CAV is 7.715959799807375, the highest delay is 10.28910978368122, vehicle pass number is 32\n",
      "Average delay of 100 Gipps is 8.879495221456333, the highest delay is 15.694656542830721, vehicle pass number is 27.51\n"
     ]
    }
   ],
   "source": [
    "print(\"Scenario 2\")\n",
    "print(\"Average delay of IDM is {}, the highest delay is {}, vehicle pass number is {}\".format(*cal_one_p(acda3)))\n",
    "print(\"Average delay of CAV is {}, the highest delay is {}, vehicle pass number is {}\".format(*cal_one_p(cav3)))\n",
    "print(\"Average delay of 100 Gipps is {}, the highest delay is {}, vehicle pass number is {}\".format(*cal_avg_p(gps3)))"
   ]
  }
 ],
 "metadata": {
  "kernelspec": {
   "display_name": "Python 3",
   "language": "python",
   "name": "python3"
  },
  "language_info": {
   "codemirror_mode": {
    "name": "ipython",
    "version": 3
   },
   "file_extension": ".py",
   "mimetype": "text/x-python",
   "name": "python",
   "nbconvert_exporter": "python",
   "pygments_lexer": "ipython3",
   "version": "3.6.5"
  }
 },
 "nbformat": 4,
 "nbformat_minor": 2
}
